{
 "cells": [
  {
   "cell_type": "markdown",
   "metadata": {},
   "source": [
    "# Heart Disease data base and simple analysis\n",
    "\n",
    "- Import libraries needed;"
   ]
  },
  {
   "cell_type": "code",
   "execution_count": 2,
   "metadata": {},
   "outputs": [],
   "source": [
    "import math\n",
    "import seaborn as sns\n",
    "from scipy import stats\n",
    "import pandas as pd\n",
    "import numpy as np\n",
    "import matplotlib.pyplot as plt"
   ]
  },
  {
   "cell_type": "markdown",
   "metadata": {},
   "source": [
    "- Import the heart disease data from Cleveland;\n",
    "- Check the head of the data base;"
   ]
  },
  {
   "cell_type": "code",
   "execution_count": 3,
   "metadata": {},
   "outputs": [
    {
     "data": {
      "text/html": [
       "<div>\n",
       "<style scoped>\n",
       "    .dataframe tbody tr th:only-of-type {\n",
       "        vertical-align: middle;\n",
       "    }\n",
       "\n",
       "    .dataframe tbody tr th {\n",
       "        vertical-align: top;\n",
       "    }\n",
       "\n",
       "    .dataframe thead th {\n",
       "        text-align: right;\n",
       "    }\n",
       "</style>\n",
       "<table border=\"1\" class=\"dataframe\">\n",
       "  <thead>\n",
       "    <tr style=\"text-align: right;\">\n",
       "      <th></th>\n",
       "      <th>age</th>\n",
       "      <th>sex</th>\n",
       "      <th>chest_pain</th>\n",
       "      <th>blood_ps</th>\n",
       "      <th>chol</th>\n",
       "      <th>fblood_sugar</th>\n",
       "      <th>restecg</th>\n",
       "      <th>max_ha</th>\n",
       "      <th>exang</th>\n",
       "      <th>oldpeak</th>\n",
       "      <th>slope</th>\n",
       "      <th>ca</th>\n",
       "      <th>thal</th>\n",
       "      <th>num</th>\n",
       "    </tr>\n",
       "  </thead>\n",
       "  <tbody>\n",
       "    <tr>\n",
       "      <th>0</th>\n",
       "      <td>63</td>\n",
       "      <td>1</td>\n",
       "      <td>1</td>\n",
       "      <td>145</td>\n",
       "      <td>233</td>\n",
       "      <td>1</td>\n",
       "      <td>2</td>\n",
       "      <td>150</td>\n",
       "      <td>0</td>\n",
       "      <td>2.3</td>\n",
       "      <td>3</td>\n",
       "      <td>0</td>\n",
       "      <td>6</td>\n",
       "      <td>0</td>\n",
       "    </tr>\n",
       "    <tr>\n",
       "      <th>1</th>\n",
       "      <td>67</td>\n",
       "      <td>1</td>\n",
       "      <td>4</td>\n",
       "      <td>160</td>\n",
       "      <td>286</td>\n",
       "      <td>0</td>\n",
       "      <td>2</td>\n",
       "      <td>108</td>\n",
       "      <td>1</td>\n",
       "      <td>1.5</td>\n",
       "      <td>2</td>\n",
       "      <td>3</td>\n",
       "      <td>3</td>\n",
       "      <td>2</td>\n",
       "    </tr>\n",
       "    <tr>\n",
       "      <th>2</th>\n",
       "      <td>67</td>\n",
       "      <td>1</td>\n",
       "      <td>4</td>\n",
       "      <td>120</td>\n",
       "      <td>229</td>\n",
       "      <td>0</td>\n",
       "      <td>2</td>\n",
       "      <td>129</td>\n",
       "      <td>1</td>\n",
       "      <td>2.6</td>\n",
       "      <td>2</td>\n",
       "      <td>2</td>\n",
       "      <td>7</td>\n",
       "      <td>1</td>\n",
       "    </tr>\n",
       "    <tr>\n",
       "      <th>3</th>\n",
       "      <td>37</td>\n",
       "      <td>1</td>\n",
       "      <td>3</td>\n",
       "      <td>130</td>\n",
       "      <td>250</td>\n",
       "      <td>0</td>\n",
       "      <td>0</td>\n",
       "      <td>187</td>\n",
       "      <td>0</td>\n",
       "      <td>3.5</td>\n",
       "      <td>3</td>\n",
       "      <td>0</td>\n",
       "      <td>3</td>\n",
       "      <td>0</td>\n",
       "    </tr>\n",
       "    <tr>\n",
       "      <th>4</th>\n",
       "      <td>41</td>\n",
       "      <td>0</td>\n",
       "      <td>2</td>\n",
       "      <td>130</td>\n",
       "      <td>204</td>\n",
       "      <td>0</td>\n",
       "      <td>2</td>\n",
       "      <td>172</td>\n",
       "      <td>0</td>\n",
       "      <td>1.4</td>\n",
       "      <td>1</td>\n",
       "      <td>0</td>\n",
       "      <td>3</td>\n",
       "      <td>0</td>\n",
       "    </tr>\n",
       "  </tbody>\n",
       "</table>\n",
       "</div>"
      ],
      "text/plain": [
       "   age  sex  chest_pain  blood_ps  chol  fblood_sugar  restecg  max_ha  exang  \\\n",
       "0   63    1           1       145   233             1        2     150      0   \n",
       "1   67    1           4       160   286             0        2     108      1   \n",
       "2   67    1           4       120   229             0        2     129      1   \n",
       "3   37    1           3       130   250             0        0     187      0   \n",
       "4   41    0           2       130   204             0        2     172      0   \n",
       "\n",
       "   oldpeak  slope ca thal  num  \n",
       "0      2.3      3  0    6    0  \n",
       "1      1.5      2  3    3    2  \n",
       "2      2.6      2  2    7    1  \n",
       "3      3.5      3  0    3    0  \n",
       "4      1.4      1  0    3    0  "
      ]
     },
     "execution_count": 3,
     "metadata": {},
     "output_type": "execute_result"
    }
   ],
   "source": [
    "heart_disease = pd.read_csv(\"cleveland.csv\")            # read the data\n",
    "\n",
    "heart_disease.head()                                    # check the data base"
   ]
  },
  {
   "cell_type": "markdown",
   "metadata": {},
   "source": [
    "- Complete attribute documentation:\n",
    "    - age: age in years\n",
    "    - sex: sex (1 = male; 0 = female)\n",
    "    - cp: chest pain type\n",
    "        - Value 1: typical angina\n",
    "        - Value 2: atypical angina\n",
    "        - Value 3: non-anginal pain\n",
    "        - Value 4: asymptomatic\n",
    "    - blood_ps: resting blood pressure (in mmHg on admission to the hospital)\n",
    "    - chol: serum cholestoral in mg/dl\n",
    "    - fbs: (fasting blood sugar > 120 mg/dl) (1 = true; 0 = false)\n",
    "    - restecg: resting electrocardiographic results\n",
    "        - Value 0: normal\n",
    "        - Value 1: having ST-T wave abnormality (T wave inversions and/or ST elevation or depression of > 0.05 mV)\n",
    "        - Value 2: showing probable or definite left ventricular hypertrophy by Estes' criteria\n",
    "    - thalach: maximum heart rate achieved\n",
    "    - exang: exercise induced angina (1 = yes; 0 = no)\n",
    "     - oldpeak = ST depression induced by exercise relative to rest\n",
    "    - slope: the slope of the peak exercise ST segment\n",
    "        - Value 1: upsloping\n",
    "        - Value 2: flat\n",
    "        - Value 3: downsloping\n",
    "    - ca: number of major vessels (0-3) colored by flourosopy\n",
    "    - thal: 3 = normal; 6 = fixed defect; 7 = reversable defect\n",
    "    - num: diagnosis of heart disease (angiographic disease status)\n",
    "        - Value 0: < 50% diameter narrowing\n",
    "        - Value 1: > 50% diameter narrowing\n",
    "        (in any major vessel: attributes 59 through 68 are vessels)"
   ]
  },
  {
   "cell_type": "markdown",
   "metadata": {},
   "source": [
    "- Now create a new column to calculate the age_group and divide the individuals by age;"
   ]
  },
  {
   "cell_type": "code",
   "execution_count": 4,
   "metadata": {},
   "outputs": [
    {
     "data": {
      "text/html": [
       "<div>\n",
       "<style scoped>\n",
       "    .dataframe tbody tr th:only-of-type {\n",
       "        vertical-align: middle;\n",
       "    }\n",
       "\n",
       "    .dataframe tbody tr th {\n",
       "        vertical-align: top;\n",
       "    }\n",
       "\n",
       "    .dataframe thead th {\n",
       "        text-align: right;\n",
       "    }\n",
       "</style>\n",
       "<table border=\"1\" class=\"dataframe\">\n",
       "  <thead>\n",
       "    <tr style=\"text-align: right;\">\n",
       "      <th></th>\n",
       "      <th>age</th>\n",
       "      <th>sex</th>\n",
       "      <th>chest_pain</th>\n",
       "      <th>blood_ps</th>\n",
       "      <th>chol</th>\n",
       "      <th>fblood_sugar</th>\n",
       "      <th>restecg</th>\n",
       "      <th>max_ha</th>\n",
       "      <th>exang</th>\n",
       "      <th>oldpeak</th>\n",
       "      <th>slope</th>\n",
       "      <th>ca</th>\n",
       "      <th>thal</th>\n",
       "      <th>num</th>\n",
       "      <th>age_group</th>\n",
       "    </tr>\n",
       "  </thead>\n",
       "  <tbody>\n",
       "    <tr>\n",
       "      <th>0</th>\n",
       "      <td>63</td>\n",
       "      <td>1</td>\n",
       "      <td>1</td>\n",
       "      <td>145</td>\n",
       "      <td>233</td>\n",
       "      <td>1</td>\n",
       "      <td>2</td>\n",
       "      <td>150</td>\n",
       "      <td>0</td>\n",
       "      <td>2.3</td>\n",
       "      <td>3</td>\n",
       "      <td>0</td>\n",
       "      <td>6</td>\n",
       "      <td>0</td>\n",
       "      <td>63</td>\n",
       "    </tr>\n",
       "    <tr>\n",
       "      <th>1</th>\n",
       "      <td>67</td>\n",
       "      <td>1</td>\n",
       "      <td>4</td>\n",
       "      <td>160</td>\n",
       "      <td>286</td>\n",
       "      <td>0</td>\n",
       "      <td>2</td>\n",
       "      <td>108</td>\n",
       "      <td>1</td>\n",
       "      <td>1.5</td>\n",
       "      <td>2</td>\n",
       "      <td>3</td>\n",
       "      <td>3</td>\n",
       "      <td>2</td>\n",
       "      <td>67</td>\n",
       "    </tr>\n",
       "    <tr>\n",
       "      <th>2</th>\n",
       "      <td>67</td>\n",
       "      <td>1</td>\n",
       "      <td>4</td>\n",
       "      <td>120</td>\n",
       "      <td>229</td>\n",
       "      <td>0</td>\n",
       "      <td>2</td>\n",
       "      <td>129</td>\n",
       "      <td>1</td>\n",
       "      <td>2.6</td>\n",
       "      <td>2</td>\n",
       "      <td>2</td>\n",
       "      <td>7</td>\n",
       "      <td>1</td>\n",
       "      <td>67</td>\n",
       "    </tr>\n",
       "    <tr>\n",
       "      <th>3</th>\n",
       "      <td>37</td>\n",
       "      <td>1</td>\n",
       "      <td>3</td>\n",
       "      <td>130</td>\n",
       "      <td>250</td>\n",
       "      <td>0</td>\n",
       "      <td>0</td>\n",
       "      <td>187</td>\n",
       "      <td>0</td>\n",
       "      <td>3.5</td>\n",
       "      <td>3</td>\n",
       "      <td>0</td>\n",
       "      <td>3</td>\n",
       "      <td>0</td>\n",
       "      <td>37</td>\n",
       "    </tr>\n",
       "    <tr>\n",
       "      <th>4</th>\n",
       "      <td>41</td>\n",
       "      <td>0</td>\n",
       "      <td>2</td>\n",
       "      <td>130</td>\n",
       "      <td>204</td>\n",
       "      <td>0</td>\n",
       "      <td>2</td>\n",
       "      <td>172</td>\n",
       "      <td>0</td>\n",
       "      <td>1.4</td>\n",
       "      <td>1</td>\n",
       "      <td>0</td>\n",
       "      <td>3</td>\n",
       "      <td>0</td>\n",
       "      <td>41</td>\n",
       "    </tr>\n",
       "  </tbody>\n",
       "</table>\n",
       "</div>"
      ],
      "text/plain": [
       "   age  sex  chest_pain  blood_ps  chol  fblood_sugar  restecg  max_ha  exang  \\\n",
       "0   63    1           1       145   233             1        2     150      0   \n",
       "1   67    1           4       160   286             0        2     108      1   \n",
       "2   67    1           4       120   229             0        2     129      1   \n",
       "3   37    1           3       130   250             0        0     187      0   \n",
       "4   41    0           2       130   204             0        2     172      0   \n",
       "\n",
       "   oldpeak  slope ca thal  num  age_group  \n",
       "0      2.3      3  0    6    0         63  \n",
       "1      1.5      2  3    3    2         67  \n",
       "2      2.6      2  2    7    1         67  \n",
       "3      3.5      3  0    3    0         37  \n",
       "4      1.4      1  0    3    0         41  "
      ]
     },
     "execution_count": 4,
     "metadata": {},
     "output_type": "execute_result"
    }
   ],
   "source": [
    "#heart_disease['age'].value_counts()\n",
    "heart_disease['age_group'] = heart_disease['age']           # create a new column copying the age column\n",
    "heart_disease.head()                                        # check the data base"
   ]
  },
  {
   "cell_type": "markdown",
   "metadata": {},
   "source": [
    "- Let's rearrange the columns from our data frame;"
   ]
  },
  {
   "cell_type": "code",
   "execution_count": 5,
   "metadata": {},
   "outputs": [
    {
     "data": {
      "text/html": [
       "<div>\n",
       "<style scoped>\n",
       "    .dataframe tbody tr th:only-of-type {\n",
       "        vertical-align: middle;\n",
       "    }\n",
       "\n",
       "    .dataframe tbody tr th {\n",
       "        vertical-align: top;\n",
       "    }\n",
       "\n",
       "    .dataframe thead th {\n",
       "        text-align: right;\n",
       "    }\n",
       "</style>\n",
       "<table border=\"1\" class=\"dataframe\">\n",
       "  <thead>\n",
       "    <tr style=\"text-align: right;\">\n",
       "      <th></th>\n",
       "      <th>age</th>\n",
       "      <th>age_group</th>\n",
       "      <th>sex</th>\n",
       "      <th>chest_pain</th>\n",
       "      <th>blood_ps</th>\n",
       "      <th>chol</th>\n",
       "      <th>fblood_sugar</th>\n",
       "      <th>restecg</th>\n",
       "      <th>max_ha</th>\n",
       "      <th>exang</th>\n",
       "      <th>oldpeak</th>\n",
       "      <th>slope</th>\n",
       "      <th>ca</th>\n",
       "      <th>thal</th>\n",
       "      <th>num</th>\n",
       "    </tr>\n",
       "  </thead>\n",
       "  <tbody>\n",
       "    <tr>\n",
       "      <th>0</th>\n",
       "      <td>63</td>\n",
       "      <td>63</td>\n",
       "      <td>1</td>\n",
       "      <td>1</td>\n",
       "      <td>145</td>\n",
       "      <td>233</td>\n",
       "      <td>1</td>\n",
       "      <td>2</td>\n",
       "      <td>150</td>\n",
       "      <td>0</td>\n",
       "      <td>2.3</td>\n",
       "      <td>3</td>\n",
       "      <td>0</td>\n",
       "      <td>6</td>\n",
       "      <td>0</td>\n",
       "    </tr>\n",
       "    <tr>\n",
       "      <th>1</th>\n",
       "      <td>67</td>\n",
       "      <td>67</td>\n",
       "      <td>1</td>\n",
       "      <td>4</td>\n",
       "      <td>160</td>\n",
       "      <td>286</td>\n",
       "      <td>0</td>\n",
       "      <td>2</td>\n",
       "      <td>108</td>\n",
       "      <td>1</td>\n",
       "      <td>1.5</td>\n",
       "      <td>2</td>\n",
       "      <td>3</td>\n",
       "      <td>3</td>\n",
       "      <td>2</td>\n",
       "    </tr>\n",
       "    <tr>\n",
       "      <th>2</th>\n",
       "      <td>67</td>\n",
       "      <td>67</td>\n",
       "      <td>1</td>\n",
       "      <td>4</td>\n",
       "      <td>120</td>\n",
       "      <td>229</td>\n",
       "      <td>0</td>\n",
       "      <td>2</td>\n",
       "      <td>129</td>\n",
       "      <td>1</td>\n",
       "      <td>2.6</td>\n",
       "      <td>2</td>\n",
       "      <td>2</td>\n",
       "      <td>7</td>\n",
       "      <td>1</td>\n",
       "    </tr>\n",
       "    <tr>\n",
       "      <th>3</th>\n",
       "      <td>37</td>\n",
       "      <td>37</td>\n",
       "      <td>1</td>\n",
       "      <td>3</td>\n",
       "      <td>130</td>\n",
       "      <td>250</td>\n",
       "      <td>0</td>\n",
       "      <td>0</td>\n",
       "      <td>187</td>\n",
       "      <td>0</td>\n",
       "      <td>3.5</td>\n",
       "      <td>3</td>\n",
       "      <td>0</td>\n",
       "      <td>3</td>\n",
       "      <td>0</td>\n",
       "    </tr>\n",
       "    <tr>\n",
       "      <th>4</th>\n",
       "      <td>41</td>\n",
       "      <td>41</td>\n",
       "      <td>0</td>\n",
       "      <td>2</td>\n",
       "      <td>130</td>\n",
       "      <td>204</td>\n",
       "      <td>0</td>\n",
       "      <td>2</td>\n",
       "      <td>172</td>\n",
       "      <td>0</td>\n",
       "      <td>1.4</td>\n",
       "      <td>1</td>\n",
       "      <td>0</td>\n",
       "      <td>3</td>\n",
       "      <td>0</td>\n",
       "    </tr>\n",
       "  </tbody>\n",
       "</table>\n",
       "</div>"
      ],
      "text/plain": [
       "   age  age_group  sex  chest_pain  blood_ps  chol  fblood_sugar  restecg  \\\n",
       "0   63         63    1           1       145   233             1        2   \n",
       "1   67         67    1           4       160   286             0        2   \n",
       "2   67         67    1           4       120   229             0        2   \n",
       "3   37         37    1           3       130   250             0        0   \n",
       "4   41         41    0           2       130   204             0        2   \n",
       "\n",
       "   max_ha  exang  oldpeak  slope ca thal  num  \n",
       "0     150      0      2.3      3  0    6    0  \n",
       "1     108      1      1.5      2  3    3    2  \n",
       "2     129      1      2.6      2  2    7    1  \n",
       "3     187      0      3.5      3  0    3    0  \n",
       "4     172      0      1.4      1  0    3    0  "
      ]
     },
     "execution_count": 5,
     "metadata": {},
     "output_type": "execute_result"
    }
   ],
   "source": [
    "cols = ['age', 'age_group', 'sex', 'chest_pain', 'blood_ps', 'chol', 'fblood_sugar', 'restecg', 'max_ha', 'exang', 'oldpeak', 'slope', 'ca', 'thal', 'num']\n",
    "heart_disease = heart_disease[cols]\n",
    "heart_disease.head()"
   ]
  },
  {
   "cell_type": "markdown",
   "metadata": {},
   "source": [
    "- Calculate the number of classes and class amplitude;"
   ]
  },
  {
   "cell_type": "code",
   "execution_count": 6,
   "metadata": {},
   "outputs": [
    {
     "name": "stdout",
     "output_type": "stream",
     "text": [
      "[36. 43. 50. 57. 64. 71. 78.]\n"
     ]
    }
   ],
   "source": [
    "age_k_count = heart_disease['age_group'].value_counts() # variable to receive the data counted and collated\n",
    "age_k_count = age_k_count.size                          # variable receive how many elements the data have\n",
    "\n",
    "\n",
    "if age_k_count > 50:                                    # compare whether the class number it's higher than 50\n",
    "    age_k = 1 + (3.322 * np.log(age_k_count))           # if higher than 50 execute this function\n",
    "else:                                                   # if lower or equal than 50 execute just the square root\n",
    "    age_k = np.sqrt(age_k_count)\n",
    "\n",
    "if age_k > round(age_k):                                # operation to round up the class quantity\n",
    "    age_k = round(age_k) + 1                            #\n",
    "else:                                                   #   \n",
    "    age_k = round(age_k)                                #\n",
    "\n",
    "max_age = heart_disease['age'].max()\n",
    "min_age = heart_disease['age'].min()\n",
    "\n",
    "class_amp_h = (max_age - min_age) / age_k               # calculate the class amplitude // maior_valor-menor_valor / num_class\n",
    "\n",
    "if class_amp_h > round(class_amp_h):                     # operation to round up the class amplitude\n",
    "    class_amp_h = round(class_amp_h) + 1                 #           \n",
    "else:                                                    #\n",
    "    class_amp_h = round(class_amp_h)                     #\n",
    "\n",
    "age_group_boun = np.zeros(shape=age_k)                          # Create an aux array with the classes age limits\n",
    "\n",
    "for i in range(age_k):                                     # Arrange and calculate the ages to each class\n",
    "    if i == 0:                                             # when i equals 0, take the class amplitude plus the minimal age\n",
    "        age_group_boun[0] = min_age + class_amp_h               \n",
    "    else:\n",
    "        age_group_boun[i] = age_group_boun[i-1] + class_amp_h        # when i not 0, take the previous age from age_group array plus the class amplitude\n",
    "\n",
    "print(age_group_boun)                                           # check the classes boundaries\n"
   ]
  },
  {
   "cell_type": "markdown",
   "metadata": {},
   "source": [
    "- Now let's organize separate the age group of each individual, for this case:\n",
    "    - 29 |- 36\n",
    "    - 36 |- 43\n",
    "    - 43 |- 50\n",
    "    - 50 |- 57\n",
    "    - 57 |- 64\n",
    "    - 64 |- 71\n",
    "    - 71 |- 78"
   ]
  },
  {
   "cell_type": "code",
   "execution_count": 7,
   "metadata": {},
   "outputs": [],
   "source": [
    "for i in range(age_k):                               # i variable will check each boundary on the age_group class\n",
    "    # IFs just for the disease data base\n",
    "    if i == 0:\n",
    "        aux = str(min_age) + \" |- \" + str(int(age_group_boun[i]))\n",
    "    else:\n",
    "        aux = str(int(age_group_boun[i-1])) + \" |- \" + str(int(age_group_boun[i]))\n",
    "\n",
    "    for j in range(len(heart_disease['age_group'])):                        # j variable will go through all the database\n",
    "        if type(heart_disease.loc[j,'age_group']) != str:                   # check if the age_group was updated to the group str or if it's still the age number\n",
    "            if i == 0:                                                      # when i=0 we don't have a lower boundary, so just check whether the age it's less than the first upper boundary\n",
    "                if heart_disease.loc[j,'age_group'] < age_group_boun[i]:    # check if the current db age it's lower than the first boundary\n",
    "                    heart_disease.loc[j,'age_group'] = aux                  # if yes, update the position with the age_group str\n",
    "            else:                                                           # if i != 0, need to check lower and upper boundaries to match the age_group\n",
    "                if (heart_disease.loc[j,'age_group'] < age_group_boun[i]) and (heart_disease.loc[j,'age_group'] >= age_group_boun[i-1]): \n",
    "                    heart_disease.loc[j,'age_group'] = aux                  # if yes, update the position with the age_group str\n",
    "\n",
    "aux = pd.DataFrame(np.zeros(shape=(age_k,2)))  # use aux variable to create a dataframe to hold some transitional information\n",
    "aux = heart_disease.groupby(['age_group'])['age'].count()  # receive the count for each age_group grouped"
   ]
  },
  {
   "cell_type": "markdown",
   "metadata": {},
   "source": [
    "- Now let's create our frequency table part by part:"
   ]
  },
  {
   "cell_type": "code",
   "execution_count": 8,
   "metadata": {},
   "outputs": [
    {
     "data": {
      "text/html": [
       "<div>\n",
       "<style scoped>\n",
       "    .dataframe tbody tr th:only-of-type {\n",
       "        vertical-align: middle;\n",
       "    }\n",
       "\n",
       "    .dataframe tbody tr th {\n",
       "        vertical-align: top;\n",
       "    }\n",
       "\n",
       "    .dataframe thead th {\n",
       "        text-align: right;\n",
       "    }\n",
       "</style>\n",
       "<table border=\"1\" class=\"dataframe\">\n",
       "  <thead>\n",
       "    <tr style=\"text-align: right;\">\n",
       "      <th></th>\n",
       "      <th>group</th>\n",
       "      <th>Xi</th>\n",
       "      <th>fi</th>\n",
       "      <th>fri</th>\n",
       "      <th>fri%</th>\n",
       "      <th>fia</th>\n",
       "      <th>fria</th>\n",
       "      <th>fria%</th>\n",
       "    </tr>\n",
       "  </thead>\n",
       "  <tbody>\n",
       "    <tr>\n",
       "      <th>0</th>\n",
       "      <td>29 |- 36</td>\n",
       "      <td>32</td>\n",
       "      <td>7</td>\n",
       "      <td>0.0231</td>\n",
       "      <td>2.31</td>\n",
       "      <td>7</td>\n",
       "      <td>0.0231</td>\n",
       "      <td>2.31</td>\n",
       "    </tr>\n",
       "    <tr>\n",
       "      <th>1</th>\n",
       "      <td>36 |- 43</td>\n",
       "      <td>40</td>\n",
       "      <td>29</td>\n",
       "      <td>0.0957</td>\n",
       "      <td>9.57</td>\n",
       "      <td>36</td>\n",
       "      <td>0.1188</td>\n",
       "      <td>11.88</td>\n",
       "    </tr>\n",
       "    <tr>\n",
       "      <th>2</th>\n",
       "      <td>43 |- 50</td>\n",
       "      <td>46</td>\n",
       "      <td>51</td>\n",
       "      <td>0.1683</td>\n",
       "      <td>16.83</td>\n",
       "      <td>87</td>\n",
       "      <td>0.2871</td>\n",
       "      <td>28.71</td>\n",
       "    </tr>\n",
       "    <tr>\n",
       "      <th>3</th>\n",
       "      <td>50 |- 57</td>\n",
       "      <td>54</td>\n",
       "      <td>75</td>\n",
       "      <td>0.2475</td>\n",
       "      <td>24.75</td>\n",
       "      <td>162</td>\n",
       "      <td>0.5347</td>\n",
       "      <td>53.47</td>\n",
       "    </tr>\n",
       "    <tr>\n",
       "      <th>4</th>\n",
       "      <td>57 |- 64</td>\n",
       "      <td>60</td>\n",
       "      <td>90</td>\n",
       "      <td>0.2970</td>\n",
       "      <td>29.70</td>\n",
       "      <td>252</td>\n",
       "      <td>0.8317</td>\n",
       "      <td>83.17</td>\n",
       "    </tr>\n",
       "    <tr>\n",
       "      <th>5</th>\n",
       "      <td>64 |- 71</td>\n",
       "      <td>68</td>\n",
       "      <td>45</td>\n",
       "      <td>0.1485</td>\n",
       "      <td>14.85</td>\n",
       "      <td>297</td>\n",
       "      <td>0.9802</td>\n",
       "      <td>98.02</td>\n",
       "    </tr>\n",
       "    <tr>\n",
       "      <th>6</th>\n",
       "      <td>71 |- 78</td>\n",
       "      <td>74</td>\n",
       "      <td>6</td>\n",
       "      <td>0.0198</td>\n",
       "      <td>1.98</td>\n",
       "      <td>303</td>\n",
       "      <td>1.0000</td>\n",
       "      <td>100.00</td>\n",
       "    </tr>\n",
       "  </tbody>\n",
       "</table>\n",
       "</div>"
      ],
      "text/plain": [
       "      group  Xi  fi     fri   fri%  fia    fria   fria%\n",
       "0  29 |- 36  32   7  0.0231   2.31    7  0.0231    2.31\n",
       "1  36 |- 43  40  29  0.0957   9.57   36  0.1188   11.88\n",
       "2  43 |- 50  46  51  0.1683  16.83   87  0.2871   28.71\n",
       "3  50 |- 57  54  75  0.2475  24.75  162  0.5347   53.47\n",
       "4  57 |- 64  60  90  0.2970  29.70  252  0.8317   83.17\n",
       "5  64 |- 71  68  45  0.1485  14.85  297  0.9802   98.02\n",
       "6  71 |- 78  74   6  0.0198   1.98  303  1.0000  100.00"
      ]
     },
     "execution_count": 8,
     "metadata": {},
     "output_type": "execute_result"
    }
   ],
   "source": [
    "freq_table= pd.DataFrame(0, index=np.arange(0, age_k), columns=['group','Xi','fi','fri','fri%','fia','fria','fria%'])  # create a dataset to organize the frequency table\n",
    "freq_table['group'] = aux.index                         # from auxiliary variable get the index, which is the age_group\n",
    "\n",
    "# calculate the class medium point\n",
    "for i in range(age_k):          # for to go through all the rows from the freq_table     \n",
    "    if i == 0:                  # when i=0 we don't have a lower boundary, so just check whether the age it's less than the first upper boundary\n",
    "        freq_table.loc[i,'Xi'] = round((age_group_boun[i]+min_age) / 2)\n",
    "    else:                       # if i != 0, need to calculate between lower and upper boundaries from the age_group\n",
    "        freq_table.loc[i,'Xi'] = round((age_group_boun[i]+age_group_boun[i-1]) / 2)\n",
    "\n",
    "# get the counted values from auxiliary variable\n",
    "for i in range(age_k):          # for to go through all the rows from the freq_table\n",
    "    freq_table.loc[i,'fi'] = aux.iloc[i]    # get from auxiliary variable the values counted from each age_group\n",
    "\n",
    "# calculate the relative frequency to each age group\n",
    "for i in range(age_k):          # for to go through all the rows from the freq_table\n",
    "    freq_table.loc[i,'fri'] = round((freq_table.loc[i,'fi']/heart_disease['age'].size),4)      # calculate the relative frequency (fi/n)\n",
    "\n",
    "# calculate the percentage relative frequency to each age group\n",
    "for i in range(age_k):          # for to go through all the rows from the freq_table\n",
    "    freq_table.loc[i,'fri%'] = round(100*freq_table.loc[i,'fri'],4)                           # calculate the percentage relative frequency (fi/n)*100\n",
    "\n",
    "# calculate the acumulated frequency to each age group\n",
    "for i in range(age_k):          # for to go through all the rows from the freq_table\n",
    "    if i == 0:                  # when i = 0, it's the first row, so it's just the first number itself\n",
    "        freq_table.loc[i,'fia'] = aux.iloc[i]\n",
    "    else:                       # when i != 0, gets the previous value plus the one for that group\n",
    "        freq_table.loc[i,'fia'] = aux.iloc[i] + freq_table.loc[i-1,'fia']\n",
    "\n",
    "# calculate the relative acumulated frequency to each age group\n",
    "for i in range(age_k):          # for to go through all the rows from the freq_table\n",
    "    freq_table.loc[i,'fria'] = round((freq_table.loc[i,'fia']/heart_disease['age'].size),4)  # calculate the acumulated relative frequency (fria/n)\n",
    "\n",
    "# calculate the percentage relative acumulated frequency to each age group\n",
    "for i in range(age_k):          # for to go through all the rows from the freq_table\n",
    "    freq_table.loc[i,'fria%'] = round(100*freq_table.loc[i,'fria'],4)                       # calculate the acumulated relative frequency (fria/n)*100\n",
    "\n",
    "freq_table  # present the frequency table"
   ]
  },
  {
   "cell_type": "markdown",
   "metadata": {},
   "source": [
    "- Some descritives measurements from the data that we have:"
   ]
  },
  {
   "cell_type": "code",
   "execution_count": 9,
   "metadata": {},
   "outputs": [
    {
     "data": {
      "text/html": [
       "<div>\n",
       "<style scoped>\n",
       "    .dataframe tbody tr th:only-of-type {\n",
       "        vertical-align: middle;\n",
       "    }\n",
       "\n",
       "    .dataframe tbody tr th {\n",
       "        vertical-align: top;\n",
       "    }\n",
       "\n",
       "    .dataframe thead th {\n",
       "        text-align: right;\n",
       "    }\n",
       "</style>\n",
       "<table border=\"1\" class=\"dataframe\">\n",
       "  <thead>\n",
       "    <tr style=\"text-align: right;\">\n",
       "      <th></th>\n",
       "      <th>age</th>\n",
       "      <th>sex</th>\n",
       "      <th>chest_pain</th>\n",
       "      <th>blood_ps</th>\n",
       "      <th>chol</th>\n",
       "      <th>fblood_sugar</th>\n",
       "      <th>restecg</th>\n",
       "      <th>max_ha</th>\n",
       "      <th>exang</th>\n",
       "      <th>oldpeak</th>\n",
       "      <th>slope</th>\n",
       "      <th>num</th>\n",
       "    </tr>\n",
       "  </thead>\n",
       "  <tbody>\n",
       "    <tr>\n",
       "      <th>count</th>\n",
       "      <td>303.00</td>\n",
       "      <td>303.00</td>\n",
       "      <td>303.00</td>\n",
       "      <td>303.00</td>\n",
       "      <td>303.00</td>\n",
       "      <td>303.00</td>\n",
       "      <td>303.00</td>\n",
       "      <td>303.00</td>\n",
       "      <td>303.00</td>\n",
       "      <td>303.00</td>\n",
       "      <td>303.00</td>\n",
       "      <td>303.00</td>\n",
       "    </tr>\n",
       "    <tr>\n",
       "      <th>mean</th>\n",
       "      <td>54.44</td>\n",
       "      <td>0.68</td>\n",
       "      <td>3.16</td>\n",
       "      <td>131.69</td>\n",
       "      <td>246.69</td>\n",
       "      <td>0.15</td>\n",
       "      <td>0.99</td>\n",
       "      <td>149.61</td>\n",
       "      <td>0.33</td>\n",
       "      <td>1.04</td>\n",
       "      <td>1.60</td>\n",
       "      <td>0.94</td>\n",
       "    </tr>\n",
       "    <tr>\n",
       "      <th>std</th>\n",
       "      <td>9.04</td>\n",
       "      <td>0.47</td>\n",
       "      <td>0.96</td>\n",
       "      <td>17.60</td>\n",
       "      <td>51.78</td>\n",
       "      <td>0.36</td>\n",
       "      <td>0.99</td>\n",
       "      <td>22.88</td>\n",
       "      <td>0.47</td>\n",
       "      <td>1.16</td>\n",
       "      <td>0.62</td>\n",
       "      <td>1.23</td>\n",
       "    </tr>\n",
       "    <tr>\n",
       "      <th>min</th>\n",
       "      <td>29.00</td>\n",
       "      <td>0.00</td>\n",
       "      <td>1.00</td>\n",
       "      <td>94.00</td>\n",
       "      <td>126.00</td>\n",
       "      <td>0.00</td>\n",
       "      <td>0.00</td>\n",
       "      <td>71.00</td>\n",
       "      <td>0.00</td>\n",
       "      <td>0.00</td>\n",
       "      <td>1.00</td>\n",
       "      <td>0.00</td>\n",
       "    </tr>\n",
       "    <tr>\n",
       "      <th>25%</th>\n",
       "      <td>48.00</td>\n",
       "      <td>0.00</td>\n",
       "      <td>3.00</td>\n",
       "      <td>120.00</td>\n",
       "      <td>211.00</td>\n",
       "      <td>0.00</td>\n",
       "      <td>0.00</td>\n",
       "      <td>133.50</td>\n",
       "      <td>0.00</td>\n",
       "      <td>0.00</td>\n",
       "      <td>1.00</td>\n",
       "      <td>0.00</td>\n",
       "    </tr>\n",
       "    <tr>\n",
       "      <th>50%</th>\n",
       "      <td>56.00</td>\n",
       "      <td>1.00</td>\n",
       "      <td>3.00</td>\n",
       "      <td>130.00</td>\n",
       "      <td>241.00</td>\n",
       "      <td>0.00</td>\n",
       "      <td>1.00</td>\n",
       "      <td>153.00</td>\n",
       "      <td>0.00</td>\n",
       "      <td>0.80</td>\n",
       "      <td>2.00</td>\n",
       "      <td>0.00</td>\n",
       "    </tr>\n",
       "    <tr>\n",
       "      <th>75%</th>\n",
       "      <td>61.00</td>\n",
       "      <td>1.00</td>\n",
       "      <td>4.00</td>\n",
       "      <td>140.00</td>\n",
       "      <td>275.00</td>\n",
       "      <td>0.00</td>\n",
       "      <td>2.00</td>\n",
       "      <td>166.00</td>\n",
       "      <td>1.00</td>\n",
       "      <td>1.60</td>\n",
       "      <td>2.00</td>\n",
       "      <td>2.00</td>\n",
       "    </tr>\n",
       "    <tr>\n",
       "      <th>max</th>\n",
       "      <td>77.00</td>\n",
       "      <td>1.00</td>\n",
       "      <td>4.00</td>\n",
       "      <td>200.00</td>\n",
       "      <td>564.00</td>\n",
       "      <td>1.00</td>\n",
       "      <td>2.00</td>\n",
       "      <td>202.00</td>\n",
       "      <td>1.00</td>\n",
       "      <td>6.20</td>\n",
       "      <td>3.00</td>\n",
       "      <td>4.00</td>\n",
       "    </tr>\n",
       "  </tbody>\n",
       "</table>\n",
       "</div>"
      ],
      "text/plain": [
       "          age     sex  chest_pain  blood_ps    chol  fblood_sugar  restecg  \\\n",
       "count  303.00  303.00      303.00    303.00  303.00        303.00   303.00   \n",
       "mean    54.44    0.68        3.16    131.69  246.69          0.15     0.99   \n",
       "std      9.04    0.47        0.96     17.60   51.78          0.36     0.99   \n",
       "min     29.00    0.00        1.00     94.00  126.00          0.00     0.00   \n",
       "25%     48.00    0.00        3.00    120.00  211.00          0.00     0.00   \n",
       "50%     56.00    1.00        3.00    130.00  241.00          0.00     1.00   \n",
       "75%     61.00    1.00        4.00    140.00  275.00          0.00     2.00   \n",
       "max     77.00    1.00        4.00    200.00  564.00          1.00     2.00   \n",
       "\n",
       "       max_ha   exang  oldpeak   slope     num  \n",
       "count  303.00  303.00   303.00  303.00  303.00  \n",
       "mean   149.61    0.33     1.04    1.60    0.94  \n",
       "std     22.88    0.47     1.16    0.62    1.23  \n",
       "min     71.00    0.00     0.00    1.00    0.00  \n",
       "25%    133.50    0.00     0.00    1.00    0.00  \n",
       "50%    153.00    0.00     0.80    2.00    0.00  \n",
       "75%    166.00    1.00     1.60    2.00    2.00  \n",
       "max    202.00    1.00     6.20    3.00    4.00  "
      ]
     },
     "execution_count": 9,
     "metadata": {},
     "output_type": "execute_result"
    }
   ],
   "source": [
    "round(heart_disease.describe(),2)    # function that gets some descritives measurements"
   ]
  },
  {
   "cell_type": "markdown",
   "metadata": {},
   "source": [
    "- The median and the mode values"
   ]
  },
  {
   "cell_type": "code",
   "execution_count": 10,
   "metadata": {},
   "outputs": [
    {
     "name": "stdout",
     "output_type": "stream",
     "text": [
      "Median value: 56.0\n",
      "Mode: [58]\n"
     ]
    }
   ],
   "source": [
    "print(\"Median value: \" + str(heart_disease['age'].median()))       # function that gets only the median value, showed above as 50%\n",
    "mode = stats.mode(heart_disease['age'])    # function that gets the mode value\n",
    "print(\"Mode: \" + str(mode[0]))\n"
   ]
  },
  {
   "cell_type": "markdown",
   "metadata": {},
   "source": [
    "- Now let's find the quartiles from the age data:"
   ]
  },
  {
   "cell_type": "code",
   "execution_count": 11,
   "metadata": {},
   "outputs": [
    {
     "name": "stdout",
     "output_type": "stream",
     "text": [
      "Q1 = 48\n",
      "Q2 = 56\n",
      "Q3 = 61\n"
     ]
    }
   ],
   "source": [
    "agehd_sorted = heart_disease['age'].sort_values()          # sorting values in crescent order\n",
    "\n",
    "quartile1_hd = agehd_sorted.iloc[round((heart_disease['age'].size)/4)]   # get the 1st quartile value\n",
    "quartile2_hd = agehd_sorted.iloc[round((heart_disease['age'].size)/2)]   # get the 2nd quartile value, same as median value\n",
    "quartile3_hd = agehd_sorted.iloc[round((heart_disease['age'].size)*3/4)] # get the 3rd quartile value\n",
    "\n",
    "print(\"Q1 = \" + str(quartile1_hd) + \"\\n\" + \"Q2 = \" + str(quartile2_hd) + \"\\n\" + \"Q3 = \" + str(quartile3_hd)) # shows the quartiles number"
   ]
  },
  {
   "cell_type": "markdown",
   "metadata": {},
   "source": [
    "- We should also find the interquartile amplitude, which is the subtraction between the number found on Q3 and Q1. It's used as an alternative dispersion measure for standard deviation and it represents the 50% data observerd."
   ]
  },
  {
   "cell_type": "code",
   "execution_count": 12,
   "metadata": {},
   "outputs": [
    {
     "name": "stdout",
     "output_type": "stream",
     "text": [
      "13\n"
     ]
    }
   ],
   "source": [
    "IQA = quartile3_hd - quartile1_hd  # Q3 - Q1 to find InterQuartile Amplitude\n",
    "print(IQA)"
   ]
  },
  {
   "cell_type": "markdown",
   "metadata": {},
   "source": [
    "- Age histogram and boxplot:"
   ]
  },
  {
   "cell_type": "code",
   "execution_count": 13,
   "metadata": {},
   "outputs": [
    {
     "data": {
      "text/plain": [
       "<AxesSubplot:xlabel='age', ylabel='Count'>"
      ]
     },
     "execution_count": 13,
     "metadata": {},
     "output_type": "execute_result"
    },
    {
     "data": {
      "image/png": "[encoded data removed]",
      "text/plain": [
       "<Figure size 432x288 with 1 Axes>"
      ]
     },
     "metadata": {
      "needs_background": "light"
     },
     "output_type": "display_data"
    }
   ],
   "source": [
    "sns.histplot(heart_disease['age'], bins=7, element='poly', color='red')     # Age Polygon histogram in red\n",
    "sns.histplot(heart_disease['age'], bins=7)                                  # Age Histogram in blue"
   ]
  },
  {
   "cell_type": "code",
   "execution_count": 44,
   "metadata": {},
   "outputs": [
    {
     "name": "stdout",
     "output_type": "stream",
     "text": [
      "Max Age: 77\n",
      "Min Age: 29\n"
     ]
    },
    {
     "data": {
      "text/plain": [
       "<AxesSubplot:>"
      ]
     },
     "execution_count": 44,
     "metadata": {},
     "output_type": "execute_result"
    },
    {
     "data": {
      "image/png": "[encoded data removed]",
      "text/plain": [
       "<Figure size 432x288 with 1 Axes>"
      ]
     },
     "metadata": {
      "needs_background": "light"
     },
     "output_type": "display_data"
    }
   ],
   "source": [
    "print(\"Max Age: \" + str(max_age) +\"\\n\"+\"Min Age: \" + str(min_age))\n",
    "sns.boxplot(data=(heart_disease.age))       #  Age boxplot"
   ]
  },
  {
   "cell_type": "markdown",
   "metadata": {},
   "source": [
    "- Blood preasure histogram and boxplot:"
   ]
  },
  {
   "cell_type": "code",
   "execution_count": 15,
   "metadata": {},
   "outputs": [
    {
     "data": {
      "text/plain": [
       "<AxesSubplot:xlabel='blood_ps', ylabel='Count'>"
      ]
     },
     "execution_count": 15,
     "metadata": {},
     "output_type": "execute_result"
    },
    {
     "data": {
      "image/png": "[encoded data removed]",
      "text/plain": [
       "<Figure size 432x288 with 1 Axes>"
      ]
     },
     "metadata": {
      "needs_background": "light"
     },
     "output_type": "display_data"
    }
   ],
   "source": [
    "sns.histplot(heart_disease['blood_ps'], bins=9, element='poly', color='red')\n",
    "sns.histplot(heart_disease['blood_ps'], bins=9)"
   ]
  },
  {
   "cell_type": "code",
   "execution_count": 16,
   "metadata": {},
   "outputs": [
    {
     "data": {
      "text/plain": [
       "<AxesSubplot:>"
      ]
     },
     "execution_count": 16,
     "metadata": {},
     "output_type": "execute_result"
    },
    {
     "data": {
      "image/png": "[encoded data removed]",
      "text/plain": [
       "<Figure size 432x288 with 1 Axes>"
      ]
     },
     "metadata": {
      "needs_background": "light"
     },
     "output_type": "display_data"
    }
   ],
   "source": [
    "sns.boxplot(data=(heart_disease.blood_ps))"
   ]
  },
  {
   "cell_type": "markdown",
   "metadata": {},
   "source": [
    "- 2 charts "
   ]
  },
  {
   "cell_type": "code",
   "execution_count": 17,
   "metadata": {},
   "outputs": [
    {
     "data": {
      "text/plain": [
       "<AxesSubplot:xlabel='age', ylabel='chol'>"
      ]
     },
     "execution_count": 17,
     "metadata": {},
     "output_type": "execute_result"
    },
    {
     "data": {
      "image/png": "[encoded data removed]",
      "text/plain": [
       "<Figure size 432x288 with 1 Axes>"
      ]
     },
     "metadata": {
      "needs_background": "light"
     },
     "output_type": "display_data"
    },
    {
     "data": {
      "image/png": "[encoded data removed]",
      "text/plain": [
       "<Figure size 432x288 with 1 Axes>"
      ]
     },
     "metadata": {
      "needs_background": "light"
     },
     "output_type": "display_data"
    }
   ],
   "source": [
    "heart_disease.plot(kind='scatter', x='age', y='blood_ps')\n",
    "heart_disease.plot(kind='scatter', x='age', y='chol', color='red')"
   ]
  },
  {
   "cell_type": "code",
   "execution_count": 18,
   "metadata": {},
   "outputs": [
    {
     "data": {
      "text/plain": [
       "<AxesSubplot:xlabel='blood_ps', ylabel='chol'>"
      ]
     },
     "execution_count": 18,
     "metadata": {},
     "output_type": "execute_result"
    },
    {
     "data": {
      "image/png": "[encoded data removed]",
      "text/plain": [
       "<Figure size 432x288 with 1 Axes>"
      ]
     },
     "metadata": {
      "needs_background": "light"
     },
     "output_type": "display_data"
    }
   ],
   "source": [
    "heart_disease.plot(kind='scatter', y='chol', x='blood_ps')"
   ]
  },
  {
   "cell_type": "markdown",
   "metadata": {},
   "source": [
    "# Analise Bidimensional"
   ]
  },
  {
   "cell_type": "code",
   "execution_count": 46,
   "metadata": {},
   "outputs": [
    {
     "data": {
      "text/plain": [
       "array(['Sex_Age', '29 |- 36', '36 |- 43', '43 |- 50', '50 |- 57',\n",
       "       '57 |- 64', '64 |- 71', '71 |- 78', 'Total'], dtype='<U8')"
      ]
     },
     "execution_count": 46,
     "metadata": {},
     "output_type": "execute_result"
    }
   ],
   "source": [
    "age_cols = ['Sex_Age']      # age_cols are the columns for the new dataset that will be used to do the two-way analysis\n",
    "for i in range(freq_table['group'].size):                   # for to build the new data set columns\n",
    "    age_cols = np.append(age_cols, freq_table.iloc[i,0])    # this will add the columns name same as the age groups form the frequency table\n",
    "age_cols = np.append(age_cols,['Total'])                    # Add a column at end to sum the row total\n",
    "age_cols"
   ]
  },
  {
   "cell_type": "code",
   "execution_count": 47,
   "metadata": {},
   "outputs": [],
   "source": [
    "analise_bi = pd.DataFrame(columns = age_cols)               # Create the dataset to organize the dat.\n",
    "analise_bi.loc[len(analise_bi.index)] = 0                   \n",
    "analise_bi.loc[len(analise_bi.index)] = 0                   # Put zeros in each row/column\n",
    "analise_bi.loc[len(analise_bi.index)] = 0\n",
    "analise_bi.loc[0,'Sex_Age'] = 'Female'                      \n",
    "analise_bi.loc[1,'Sex_Age'] = 'Male'                        # Add the rows index\n",
    "analise_bi.loc[2,'Sex_Age'] = 'Total'\n",
    "\n",
    "\n",
    "# Now let's build our two-way analysis table separated by age groups on the columns and the rows by sex\n",
    "for i in range(1,len(analise_bi.columns)-1):                    # For to run throught the new dataset columns\n",
    "    for j in range(heart_disease['age_group'].size):            # For to run throught the original dataset to check the individual age group and the sex\n",
    "        if heart_disease.loc[j,'age_group'] == age_cols[i]:     # Check whether the individual belong to that age_group\n",
    "            analise_bi.iloc[2,i] += 1                               # If yes, sum plus 1 to the number of total individuals from that age_group\n",
    "            if heart_disease.loc[j,'sex'] == 0:                 # Check if the individual it's male or female and add to the row/column\n",
    "                analise_bi.iloc[0,i] += 1                           # 0 means female\n",
    "            else:\n",
    "                analise_bi.iloc[1,i] += 1                           # 1 means male\n",
    "\n",
    "for i in range(1,len(analise_bi.columns)-1):                    # this for it's to calculate the total individual numbers separated by row (Male/Female)\n",
    "    analise_bi.loc[0,'Total'] += analise_bi.iloc[0,i]\n",
    "    analise_bi.loc[1,'Total'] += analise_bi.iloc[1,i]\n",
    "    analise_bi.loc[2,'Total'] += analise_bi.iloc[2,i]"
   ]
  },
  {
   "cell_type": "code",
   "execution_count": 48,
   "metadata": {},
   "outputs": [
    {
     "data": {
      "text/html": [
       "<div>\n",
       "<style scoped>\n",
       "    .dataframe tbody tr th:only-of-type {\n",
       "        vertical-align: middle;\n",
       "    }\n",
       "\n",
       "    .dataframe tbody tr th {\n",
       "        vertical-align: top;\n",
       "    }\n",
       "\n",
       "    .dataframe thead th {\n",
       "        text-align: right;\n",
       "    }\n",
       "</style>\n",
       "<table border=\"1\" class=\"dataframe\">\n",
       "  <thead>\n",
       "    <tr style=\"text-align: right;\">\n",
       "      <th></th>\n",
       "      <th>Sex_Age</th>\n",
       "      <th>29 |- 36</th>\n",
       "      <th>36 |- 43</th>\n",
       "      <th>43 |- 50</th>\n",
       "      <th>50 |- 57</th>\n",
       "      <th>57 |- 64</th>\n",
       "      <th>64 |- 71</th>\n",
       "      <th>71 |- 78</th>\n",
       "      <th>Total</th>\n",
       "    </tr>\n",
       "  </thead>\n",
       "  <tbody>\n",
       "    <tr>\n",
       "      <th>0</th>\n",
       "      <td>Female</td>\n",
       "      <td>2</td>\n",
       "      <td>9</td>\n",
       "      <td>13</td>\n",
       "      <td>23</td>\n",
       "      <td>30</td>\n",
       "      <td>15</td>\n",
       "      <td>5</td>\n",
       "      <td>97</td>\n",
       "    </tr>\n",
       "    <tr>\n",
       "      <th>1</th>\n",
       "      <td>Male</td>\n",
       "      <td>5</td>\n",
       "      <td>20</td>\n",
       "      <td>38</td>\n",
       "      <td>52</td>\n",
       "      <td>60</td>\n",
       "      <td>30</td>\n",
       "      <td>1</td>\n",
       "      <td>206</td>\n",
       "    </tr>\n",
       "    <tr>\n",
       "      <th>2</th>\n",
       "      <td>Total</td>\n",
       "      <td>7</td>\n",
       "      <td>29</td>\n",
       "      <td>51</td>\n",
       "      <td>75</td>\n",
       "      <td>90</td>\n",
       "      <td>45</td>\n",
       "      <td>6</td>\n",
       "      <td>303</td>\n",
       "    </tr>\n",
       "  </tbody>\n",
       "</table>\n",
       "</div>"
      ],
      "text/plain": [
       "  Sex_Age  29 |- 36  36 |- 43  43 |- 50  50 |- 57  57 |- 64  64 |- 71  \\\n",
       "0  Female         2         9        13        23        30        15   \n",
       "1    Male         5        20        38        52        60        30   \n",
       "2   Total         7        29        51        75        90        45   \n",
       "\n",
       "   71 |- 78  Total  \n",
       "0         5     97  \n",
       "1         1    206  \n",
       "2         6    303  "
      ]
     },
     "execution_count": 48,
     "metadata": {},
     "output_type": "execute_result"
    }
   ],
   "source": [
    "analise_bi"
   ]
  },
  {
   "cell_type": "code",
   "execution_count": 49,
   "metadata": {},
   "outputs": [],
   "source": [
    "porc_analise_bi = analise_bi.copy()  # copy the dataset to do the percentage two-way analysis\n",
    "\n",
    "for i in range(1,len(porc_analise_bi.columns)):     # for to calculate the percentage values to each row/column\n",
    "    # The formula it's done by row \"(male-female_age_group_qty / male-female_total) * 100\"\n",
    "    porc_analise_bi.iloc[0,i] = round(((porc_analise_bi.iloc[0,i] / porc_analise_bi.loc[0,'Total']) * 100),2)\n",
    "    porc_analise_bi.iloc[1,i] = round(((porc_analise_bi.iloc[1,i] / porc_analise_bi.loc[1,'Total']) * 100),2)\n",
    "    porc_analise_bi.iloc[2,i] = round(((porc_analise_bi.iloc[2,i] / porc_analise_bi.loc[2,'Total']) * 100),2)\n"
   ]
  },
  {
   "cell_type": "code",
   "execution_count": 50,
   "metadata": {},
   "outputs": [
    {
     "data": {
      "text/html": [
       "<div>\n",
       "<style scoped>\n",
       "    .dataframe tbody tr th:only-of-type {\n",
       "        vertical-align: middle;\n",
       "    }\n",
       "\n",
       "    .dataframe tbody tr th {\n",
       "        vertical-align: top;\n",
       "    }\n",
       "\n",
       "    .dataframe thead th {\n",
       "        text-align: right;\n",
       "    }\n",
       "</style>\n",
       "<table border=\"1\" class=\"dataframe\">\n",
       "  <thead>\n",
       "    <tr style=\"text-align: right;\">\n",
       "      <th></th>\n",
       "      <th>Sex_Age</th>\n",
       "      <th>29 |- 36</th>\n",
       "      <th>36 |- 43</th>\n",
       "      <th>43 |- 50</th>\n",
       "      <th>50 |- 57</th>\n",
       "      <th>57 |- 64</th>\n",
       "      <th>64 |- 71</th>\n",
       "      <th>71 |- 78</th>\n",
       "      <th>Total</th>\n",
       "    </tr>\n",
       "  </thead>\n",
       "  <tbody>\n",
       "    <tr>\n",
       "      <th>0</th>\n",
       "      <td>Female</td>\n",
       "      <td>2.06</td>\n",
       "      <td>9.28</td>\n",
       "      <td>13.40</td>\n",
       "      <td>23.71</td>\n",
       "      <td>30.93</td>\n",
       "      <td>15.46</td>\n",
       "      <td>5.15</td>\n",
       "      <td>100</td>\n",
       "    </tr>\n",
       "    <tr>\n",
       "      <th>1</th>\n",
       "      <td>Male</td>\n",
       "      <td>2.43</td>\n",
       "      <td>9.71</td>\n",
       "      <td>18.45</td>\n",
       "      <td>25.24</td>\n",
       "      <td>29.13</td>\n",
       "      <td>14.56</td>\n",
       "      <td>0.49</td>\n",
       "      <td>100</td>\n",
       "    </tr>\n",
       "    <tr>\n",
       "      <th>2</th>\n",
       "      <td>Total</td>\n",
       "      <td>2.31</td>\n",
       "      <td>9.57</td>\n",
       "      <td>16.83</td>\n",
       "      <td>24.75</td>\n",
       "      <td>29.70</td>\n",
       "      <td>14.85</td>\n",
       "      <td>1.98</td>\n",
       "      <td>100</td>\n",
       "    </tr>\n",
       "  </tbody>\n",
       "</table>\n",
       "</div>"
      ],
      "text/plain": [
       "  Sex_Age  29 |- 36  36 |- 43  43 |- 50  50 |- 57  57 |- 64  64 |- 71  \\\n",
       "0  Female      2.06      9.28     13.40     23.71     30.93     15.46   \n",
       "1    Male      2.43      9.71     18.45     25.24     29.13     14.56   \n",
       "2   Total      2.31      9.57     16.83     24.75     29.70     14.85   \n",
       "\n",
       "   71 |- 78  Total  \n",
       "0      5.15    100  \n",
       "1      0.49    100  \n",
       "2      1.98    100  "
      ]
     },
     "execution_count": 50,
     "metadata": {},
     "output_type": "execute_result"
    }
   ],
   "source": [
    "porc_analise_bi"
   ]
  },
  {
   "cell_type": "markdown",
   "metadata": {},
   "source": [
    "# Associacao entre variaveis"
   ]
  },
  {
   "cell_type": "code",
   "execution_count": 23,
   "metadata": {},
   "outputs": [],
   "source": [
    "val_esperado = analise_bi.copy()    # Copy the dataset to seek the \n",
    "\n",
    "for i in range(1,len(val_esperado.columns)-1):\n",
    "    val_esperado.iloc[0,i] = val_esperado.loc[0,'Total'] * ((porc_analise_bi.iloc[2,i]) / 100)\n",
    "    val_esperado.iloc[1,i] = val_esperado.loc[1,'Total'] * ((porc_analise_bi.iloc[2,i]) / 100)"
   ]
  },
  {
   "cell_type": "code",
   "execution_count": 24,
   "metadata": {},
   "outputs": [
    {
     "data": {
      "text/html": [
       "<div>\n",
       "<style scoped>\n",
       "    .dataframe tbody tr th:only-of-type {\n",
       "        vertical-align: middle;\n",
       "    }\n",
       "\n",
       "    .dataframe tbody tr th {\n",
       "        vertical-align: top;\n",
       "    }\n",
       "\n",
       "    .dataframe thead th {\n",
       "        text-align: right;\n",
       "    }\n",
       "</style>\n",
       "<table border=\"1\" class=\"dataframe\">\n",
       "  <thead>\n",
       "    <tr style=\"text-align: right;\">\n",
       "      <th></th>\n",
       "      <th>Sex_Age</th>\n",
       "      <th>29 |- 36</th>\n",
       "      <th>36 |- 43</th>\n",
       "      <th>43 |- 50</th>\n",
       "      <th>50 |- 57</th>\n",
       "      <th>57 |- 64</th>\n",
       "      <th>64 |- 71</th>\n",
       "      <th>71 |- 78</th>\n",
       "      <th>Total</th>\n",
       "    </tr>\n",
       "  </thead>\n",
       "  <tbody>\n",
       "    <tr>\n",
       "      <th>0</th>\n",
       "      <td>Female</td>\n",
       "      <td>2.240924</td>\n",
       "      <td>9.283828</td>\n",
       "      <td>16.326733</td>\n",
       "      <td>24.009901</td>\n",
       "      <td>28.811881</td>\n",
       "      <td>14.405941</td>\n",
       "      <td>1.920792</td>\n",
       "      <td>97</td>\n",
       "    </tr>\n",
       "    <tr>\n",
       "      <th>1</th>\n",
       "      <td>Male</td>\n",
       "      <td>4.759076</td>\n",
       "      <td>19.716172</td>\n",
       "      <td>34.673267</td>\n",
       "      <td>50.990099</td>\n",
       "      <td>61.188119</td>\n",
       "      <td>30.594059</td>\n",
       "      <td>4.079208</td>\n",
       "      <td>206</td>\n",
       "    </tr>\n",
       "    <tr>\n",
       "      <th>2</th>\n",
       "      <td>Total</td>\n",
       "      <td>7.000000</td>\n",
       "      <td>29.000000</td>\n",
       "      <td>51.000000</td>\n",
       "      <td>75.000000</td>\n",
       "      <td>90.000000</td>\n",
       "      <td>45.000000</td>\n",
       "      <td>6.000000</td>\n",
       "      <td>303</td>\n",
       "    </tr>\n",
       "  </tbody>\n",
       "</table>\n",
       "</div>"
      ],
      "text/plain": [
       "  Sex_Age  29 |- 36   36 |- 43   43 |- 50   50 |- 57   57 |- 64   64 |- 71  \\\n",
       "0  Female  2.240924   9.283828  16.326733  24.009901  28.811881  14.405941   \n",
       "1    Male  4.759076  19.716172  34.673267  50.990099  61.188119  30.594059   \n",
       "2   Total  7.000000  29.000000  51.000000  75.000000  90.000000  45.000000   \n",
       "\n",
       "   71 |- 78  Total  \n",
       "0  1.920792     97  \n",
       "1  4.079208    206  \n",
       "2  6.000000    303  "
      ]
     },
     "execution_count": 24,
     "metadata": {},
     "output_type": "execute_result"
    }
   ],
   "source": [
    "desvio_ob_esp = val_esperado.copy()\n",
    "desvio_ob_esp = desvio_ob_esp.drop(2)\n",
    "del desvio_ob_esp['Total']\n",
    "val_esperado"
   ]
  },
  {
   "cell_type": "code",
   "execution_count": 25,
   "metadata": {},
   "outputs": [],
   "source": [
    "for i in range(1,len(desvio_ob_esp.columns)):\n",
    "    for j in range(len(desvio_ob_esp.index)):\n",
    "        desvio_ob_esp.iloc[j,i] = analise_bi.iloc[j,i] - val_esperado.iloc[j,i]"
   ]
  },
  {
   "cell_type": "code",
   "execution_count": 26,
   "metadata": {},
   "outputs": [
    {
     "data": {
      "text/html": [
       "<div>\n",
       "<style scoped>\n",
       "    .dataframe tbody tr th:only-of-type {\n",
       "        vertical-align: middle;\n",
       "    }\n",
       "\n",
       "    .dataframe tbody tr th {\n",
       "        vertical-align: top;\n",
       "    }\n",
       "\n",
       "    .dataframe thead th {\n",
       "        text-align: right;\n",
       "    }\n",
       "</style>\n",
       "<table border=\"1\" class=\"dataframe\">\n",
       "  <thead>\n",
       "    <tr style=\"text-align: right;\">\n",
       "      <th></th>\n",
       "      <th>Sex_Age</th>\n",
       "      <th>29 |- 36</th>\n",
       "      <th>36 |- 43</th>\n",
       "      <th>43 |- 50</th>\n",
       "      <th>50 |- 57</th>\n",
       "      <th>57 |- 64</th>\n",
       "      <th>64 |- 71</th>\n",
       "      <th>71 |- 78</th>\n",
       "    </tr>\n",
       "  </thead>\n",
       "  <tbody>\n",
       "    <tr>\n",
       "      <th>0</th>\n",
       "      <td>Female</td>\n",
       "      <td>-0.240924</td>\n",
       "      <td>-0.283828</td>\n",
       "      <td>-3.326733</td>\n",
       "      <td>-1.009901</td>\n",
       "      <td>1.188119</td>\n",
       "      <td>0.594059</td>\n",
       "      <td>3.079208</td>\n",
       "    </tr>\n",
       "    <tr>\n",
       "      <th>1</th>\n",
       "      <td>Male</td>\n",
       "      <td>0.240924</td>\n",
       "      <td>0.283828</td>\n",
       "      <td>3.326733</td>\n",
       "      <td>1.009901</td>\n",
       "      <td>-1.188119</td>\n",
       "      <td>-0.594059</td>\n",
       "      <td>-3.079208</td>\n",
       "    </tr>\n",
       "  </tbody>\n",
       "</table>\n",
       "</div>"
      ],
      "text/plain": [
       "  Sex_Age  29 |- 36  36 |- 43  43 |- 50  50 |- 57  57 |- 64  64 |- 71  \\\n",
       "0  Female -0.240924 -0.283828 -3.326733 -1.009901  1.188119  0.594059   \n",
       "1    Male  0.240924  0.283828  3.326733  1.009901 -1.188119 -0.594059   \n",
       "\n",
       "   71 |- 78  \n",
       "0  3.079208  \n",
       "1 -3.079208  "
      ]
     },
     "execution_count": 26,
     "metadata": {},
     "output_type": "execute_result"
    }
   ],
   "source": [
    "desvio_ob_esp"
   ]
  },
  {
   "cell_type": "code",
   "execution_count": 27,
   "metadata": {},
   "outputs": [],
   "source": [
    "residuo_relativo = desvio_ob_esp.copy()\n",
    "\n",
    "for i in range(1,len(residuo_relativo.columns)):\n",
    "    residuo_relativo.iloc[0,i] = pow(residuo_relativo.iloc[0,i],2) / val_esperado.iloc[0,i]\n",
    "    residuo_relativo.iloc[1,i] = pow(residuo_relativo.iloc[1,i],2) / val_esperado.iloc[1,i]"
   ]
  },
  {
   "cell_type": "code",
   "execution_count": 28,
   "metadata": {},
   "outputs": [
    {
     "data": {
      "text/html": [
       "<div>\n",
       "<style scoped>\n",
       "    .dataframe tbody tr th:only-of-type {\n",
       "        vertical-align: middle;\n",
       "    }\n",
       "\n",
       "    .dataframe tbody tr th {\n",
       "        vertical-align: top;\n",
       "    }\n",
       "\n",
       "    .dataframe thead th {\n",
       "        text-align: right;\n",
       "    }\n",
       "</style>\n",
       "<table border=\"1\" class=\"dataframe\">\n",
       "  <thead>\n",
       "    <tr style=\"text-align: right;\">\n",
       "      <th></th>\n",
       "      <th>Sex_Age</th>\n",
       "      <th>29 |- 36</th>\n",
       "      <th>36 |- 43</th>\n",
       "      <th>43 |- 50</th>\n",
       "      <th>50 |- 57</th>\n",
       "      <th>57 |- 64</th>\n",
       "      <th>64 |- 71</th>\n",
       "      <th>71 |- 78</th>\n",
       "    </tr>\n",
       "  </thead>\n",
       "  <tbody>\n",
       "    <tr>\n",
       "      <th>0</th>\n",
       "      <td>Female</td>\n",
       "      <td>0.025902</td>\n",
       "      <td>0.008677</td>\n",
       "      <td>0.677855</td>\n",
       "      <td>0.042478</td>\n",
       "      <td>0.048995</td>\n",
       "      <td>0.024497</td>\n",
       "      <td>4.936256</td>\n",
       "    </tr>\n",
       "    <tr>\n",
       "      <th>1</th>\n",
       "      <td>Male</td>\n",
       "      <td>0.012197</td>\n",
       "      <td>0.004086</td>\n",
       "      <td>0.319184</td>\n",
       "      <td>0.020002</td>\n",
       "      <td>0.023070</td>\n",
       "      <td>0.011535</td>\n",
       "      <td>2.324354</td>\n",
       "    </tr>\n",
       "  </tbody>\n",
       "</table>\n",
       "</div>"
      ],
      "text/plain": [
       "  Sex_Age  29 |- 36  36 |- 43  43 |- 50  50 |- 57  57 |- 64  64 |- 71  \\\n",
       "0  Female  0.025902  0.008677  0.677855  0.042478  0.048995  0.024497   \n",
       "1    Male  0.012197  0.004086  0.319184  0.020002  0.023070  0.011535   \n",
       "\n",
       "   71 |- 78  \n",
       "0  4.936256  \n",
       "1  2.324354  "
      ]
     },
     "execution_count": 28,
     "metadata": {},
     "output_type": "execute_result"
    }
   ],
   "source": [
    "residuo_relativo"
   ]
  },
  {
   "cell_type": "code",
   "execution_count": 29,
   "metadata": {},
   "outputs": [
    {
     "data": {
      "text/plain": [
       "8.47908736495126"
      ]
     },
     "execution_count": 29,
     "metadata": {},
     "output_type": "execute_result"
    }
   ],
   "source": [
    "chi_quadrado = 0\n",
    "for i in range(len(residuo_relativo.index)):    \n",
    "    for j in range(1,len(residuo_relativo.columns)):\n",
    "        chi_quadrado += residuo_relativo.iloc[i,j]\n",
    "\n",
    "chi_quadrado"
   ]
  },
  {
   "cell_type": "code",
   "execution_count": 30,
   "metadata": {},
   "outputs": [
    {
     "data": {
      "text/plain": [
       "0.1649909443397342"
      ]
     },
     "execution_count": 30,
     "metadata": {},
     "output_type": "execute_result"
    }
   ],
   "source": [
    "coef_cont_C = math.sqrt(chi_quadrado / (chi_quadrado+analise_bi.loc[2,'Total']))\n",
    "coef_cont_C"
   ]
  },
  {
   "cell_type": "code",
   "execution_count": 31,
   "metadata": {},
   "outputs": [
    {
     "data": {
      "text/plain": [
       "0.0632272394768126"
      ]
     },
     "execution_count": 31,
     "metadata": {},
     "output_type": "execute_result"
    }
   ],
   "source": [
    "coef_cont_T = math.sqrt((chi_quadrado/analise_bi.loc[2,'Total'])/((len(residuo_relativo.index)-1)*(len(residuo_relativo.columns)-1)))\n",
    "coef_cont_T"
   ]
  },
  {
   "cell_type": "markdown",
   "metadata": {},
   "source": [
    "## Correlacao"
   ]
  },
  {
   "cell_type": "code",
   "execution_count": 32,
   "metadata": {},
   "outputs": [],
   "source": [
    "corr_table = pd.DataFrame(columns=['age','blood_ps', 'x-x|','y-y|','zx','zy','zx*zy'])\n",
    "corr_table['age']=heart_disease['age']\n",
    "corr_table['blood_ps']=heart_disease['blood_ps']"
   ]
  },
  {
   "cell_type": "code",
   "execution_count": 33,
   "metadata": {},
   "outputs": [],
   "source": [
    "age_mean = round(corr_table['age'].mean(),3)\n",
    "blood_ps_mean = round(corr_table['blood_ps'].mean(),3)\n",
    "age_std = round(corr_table['age'].std(),3)\n",
    "blood_ps_std = round(corr_table['blood_ps'].std(),3)"
   ]
  },
  {
   "cell_type": "code",
   "execution_count": 34,
   "metadata": {},
   "outputs": [],
   "source": [
    "for i in range (len(corr_table)):                                       ## Found the x - x_mean to each subject (age)\n",
    "    corr_table.loc[i,'x-x|'] = corr_table.loc[i,'age'] - age_mean\n",
    "    corr_table.loc[i,'zx'] = corr_table.loc[i,'x-x|'] / age_std\n",
    "\n",
    "for i in range (len(corr_table)):                                       ## Found the y - y_mean to each subject (blood_ps)\n",
    "    corr_table.loc[i,'y-y|'] = corr_table.loc[i,'blood_ps'] - blood_ps_mean\n",
    "    corr_table.loc[i,'zy'] = corr_table.loc[i,'y-y|'] / blood_ps_std\n",
    "\n",
    "for i in range (len(corr_table)):\n",
    "    corr_table.loc[i,'zx*zy'] = corr_table.loc[i,'zx'] * corr_table.loc[i,'zy']\n"
   ]
  },
  {
   "cell_type": "code",
   "execution_count": 35,
   "metadata": {},
   "outputs": [
    {
     "name": "stdout",
     "output_type": "stream",
     "text": [
      "O coeficiente de correlação tem o valor de: 0.284\n"
     ]
    }
   ],
   "source": [
    "print(\"O coeficiente de correlação tem o valor de: \" + str(round(corr_table['zx*zy'].sum()/len(corr_table),3)))"
   ]
  },
  {
   "cell_type": "code",
   "execution_count": 36,
   "metadata": {},
   "outputs": [
    {
     "data": {
      "text/html": [
       "<div>\n",
       "<style scoped>\n",
       "    .dataframe tbody tr th:only-of-type {\n",
       "        vertical-align: middle;\n",
       "    }\n",
       "\n",
       "    .dataframe tbody tr th {\n",
       "        vertical-align: top;\n",
       "    }\n",
       "\n",
       "    .dataframe thead th {\n",
       "        text-align: right;\n",
       "    }\n",
       "</style>\n",
       "<table border=\"1\" class=\"dataframe\">\n",
       "  <thead>\n",
       "    <tr style=\"text-align: right;\">\n",
       "      <th></th>\n",
       "      <th>age</th>\n",
       "      <th>blood_ps</th>\n",
       "      <th>x-x|</th>\n",
       "      <th>y-y|</th>\n",
       "      <th>zx</th>\n",
       "      <th>zy</th>\n",
       "      <th>zx*zy</th>\n",
       "    </tr>\n",
       "  </thead>\n",
       "  <tbody>\n",
       "    <tr>\n",
       "      <th>0</th>\n",
       "      <td>63</td>\n",
       "      <td>145</td>\n",
       "      <td>8.561</td>\n",
       "      <td>13.31</td>\n",
       "      <td>0.947118</td>\n",
       "      <td>0.75625</td>\n",
       "      <td>0.716258</td>\n",
       "    </tr>\n",
       "    <tr>\n",
       "      <th>1</th>\n",
       "      <td>67</td>\n",
       "      <td>160</td>\n",
       "      <td>12.561</td>\n",
       "      <td>28.31</td>\n",
       "      <td>1.389645</td>\n",
       "      <td>1.608523</td>\n",
       "      <td>2.235275</td>\n",
       "    </tr>\n",
       "    <tr>\n",
       "      <th>2</th>\n",
       "      <td>67</td>\n",
       "      <td>120</td>\n",
       "      <td>12.561</td>\n",
       "      <td>-11.69</td>\n",
       "      <td>1.389645</td>\n",
       "      <td>-0.664205</td>\n",
       "      <td>-0.923008</td>\n",
       "    </tr>\n",
       "    <tr>\n",
       "      <th>3</th>\n",
       "      <td>37</td>\n",
       "      <td>130</td>\n",
       "      <td>-17.439</td>\n",
       "      <td>-1.69</td>\n",
       "      <td>-1.929306</td>\n",
       "      <td>-0.096023</td>\n",
       "      <td>0.185257</td>\n",
       "    </tr>\n",
       "    <tr>\n",
       "      <th>4</th>\n",
       "      <td>41</td>\n",
       "      <td>130</td>\n",
       "      <td>-13.439</td>\n",
       "      <td>-1.69</td>\n",
       "      <td>-1.48678</td>\n",
       "      <td>-0.096023</td>\n",
       "      <td>0.142765</td>\n",
       "    </tr>\n",
       "    <tr>\n",
       "      <th>...</th>\n",
       "      <td>...</td>\n",
       "      <td>...</td>\n",
       "      <td>...</td>\n",
       "      <td>...</td>\n",
       "      <td>...</td>\n",
       "      <td>...</td>\n",
       "      <td>...</td>\n",
       "    </tr>\n",
       "    <tr>\n",
       "      <th>298</th>\n",
       "      <td>45</td>\n",
       "      <td>110</td>\n",
       "      <td>-9.439</td>\n",
       "      <td>-21.69</td>\n",
       "      <td>-1.044253</td>\n",
       "      <td>-1.232386</td>\n",
       "      <td>1.286923</td>\n",
       "    </tr>\n",
       "    <tr>\n",
       "      <th>299</th>\n",
       "      <td>68</td>\n",
       "      <td>144</td>\n",
       "      <td>13.561</td>\n",
       "      <td>12.31</td>\n",
       "      <td>1.500277</td>\n",
       "      <td>0.699432</td>\n",
       "      <td>1.049341</td>\n",
       "    </tr>\n",
       "    <tr>\n",
       "      <th>300</th>\n",
       "      <td>57</td>\n",
       "      <td>130</td>\n",
       "      <td>2.561</td>\n",
       "      <td>-1.69</td>\n",
       "      <td>0.283328</td>\n",
       "      <td>-0.096023</td>\n",
       "      <td>-0.027206</td>\n",
       "    </tr>\n",
       "    <tr>\n",
       "      <th>301</th>\n",
       "      <td>57</td>\n",
       "      <td>130</td>\n",
       "      <td>2.561</td>\n",
       "      <td>-1.69</td>\n",
       "      <td>0.283328</td>\n",
       "      <td>-0.096023</td>\n",
       "      <td>-0.027206</td>\n",
       "    </tr>\n",
       "    <tr>\n",
       "      <th>302</th>\n",
       "      <td>38</td>\n",
       "      <td>138</td>\n",
       "      <td>-16.439</td>\n",
       "      <td>6.31</td>\n",
       "      <td>-1.818675</td>\n",
       "      <td>0.358523</td>\n",
       "      <td>-0.652036</td>\n",
       "    </tr>\n",
       "  </tbody>\n",
       "</table>\n",
       "<p>303 rows × 7 columns</p>\n",
       "</div>"
      ],
      "text/plain": [
       "     age  blood_ps    x-x|   y-y|        zx        zy     zx*zy\n",
       "0     63       145   8.561  13.31  0.947118   0.75625  0.716258\n",
       "1     67       160  12.561  28.31  1.389645  1.608523  2.235275\n",
       "2     67       120  12.561 -11.69  1.389645 -0.664205 -0.923008\n",
       "3     37       130 -17.439  -1.69 -1.929306 -0.096023  0.185257\n",
       "4     41       130 -13.439  -1.69  -1.48678 -0.096023  0.142765\n",
       "..   ...       ...     ...    ...       ...       ...       ...\n",
       "298   45       110  -9.439 -21.69 -1.044253 -1.232386  1.286923\n",
       "299   68       144  13.561  12.31  1.500277  0.699432  1.049341\n",
       "300   57       130   2.561  -1.69  0.283328 -0.096023 -0.027206\n",
       "301   57       130   2.561  -1.69  0.283328 -0.096023 -0.027206\n",
       "302   38       138 -16.439   6.31 -1.818675  0.358523 -0.652036\n",
       "\n",
       "[303 rows x 7 columns]"
      ]
     },
     "execution_count": 36,
     "metadata": {},
     "output_type": "execute_result"
    }
   ],
   "source": [
    "corr_table"
   ]
  },
  {
   "cell_type": "code",
   "execution_count": 37,
   "metadata": {},
   "outputs": [
    {
     "data": {
      "text/plain": [
       "<AxesSubplot:xlabel='zx', ylabel='zy'>"
      ]
     },
     "execution_count": 37,
     "metadata": {},
     "output_type": "execute_result"
    },
    {
     "data": {
      "image/png": "[encoded data removed]",
      "text/plain": [
       "<Figure size 432x288 with 1 Axes>"
      ]
     },
     "metadata": {
      "needs_background": "light"
     },
     "output_type": "display_data"
    },
    {
     "data": {
      "image/png": "[encoded data removed]",
      "text/plain": [
       "<Figure size 432x288 with 1 Axes>"
      ]
     },
     "metadata": {
      "needs_background": "light"
     },
     "output_type": "display_data"
    }
   ],
   "source": [
    "corr_table.plot(kind='scatter',x='x-x|',y='y-y|')\n",
    "corr_table.plot(kind='scatter',x='zx',y='zy')"
   ]
  },
  {
   "cell_type": "markdown",
   "metadata": {},
   "source": [
    "## Distribuicao de probabilidade"
   ]
  },
  {
   "cell_type": "code",
   "execution_count": 38,
   "metadata": {},
   "outputs": [],
   "source": [
    "distr_prob = pd.DataFrame(columns=['blood_ps','fblood_sugar'])\n",
    "distr_prob['blood_ps'] = heart_disease['blood_ps']\n",
    "distr_prob['fblood_sugar'] = heart_disease['fblood_sugar']"
   ]
  },
  {
   "cell_type": "code",
   "execution_count": 39,
   "metadata": {},
   "outputs": [
    {
     "data": {
      "text/html": [
       "<div>\n",
       "<style scoped>\n",
       "    .dataframe tbody tr th:only-of-type {\n",
       "        vertical-align: middle;\n",
       "    }\n",
       "\n",
       "    .dataframe tbody tr th {\n",
       "        vertical-align: top;\n",
       "    }\n",
       "\n",
       "    .dataframe thead th {\n",
       "        text-align: right;\n",
       "    }\n",
       "</style>\n",
       "<table border=\"1\" class=\"dataframe\">\n",
       "  <thead>\n",
       "    <tr style=\"text-align: right;\">\n",
       "      <th></th>\n",
       "      <th>blood_ps</th>\n",
       "      <th>fblood_sugar</th>\n",
       "    </tr>\n",
       "  </thead>\n",
       "  <tbody>\n",
       "    <tr>\n",
       "      <th>0</th>\n",
       "      <td>145</td>\n",
       "      <td>1</td>\n",
       "    </tr>\n",
       "    <tr>\n",
       "      <th>1</th>\n",
       "      <td>160</td>\n",
       "      <td>0</td>\n",
       "    </tr>\n",
       "    <tr>\n",
       "      <th>2</th>\n",
       "      <td>120</td>\n",
       "      <td>0</td>\n",
       "    </tr>\n",
       "    <tr>\n",
       "      <th>3</th>\n",
       "      <td>130</td>\n",
       "      <td>0</td>\n",
       "    </tr>\n",
       "    <tr>\n",
       "      <th>4</th>\n",
       "      <td>130</td>\n",
       "      <td>0</td>\n",
       "    </tr>\n",
       "    <tr>\n",
       "      <th>...</th>\n",
       "      <td>...</td>\n",
       "      <td>...</td>\n",
       "    </tr>\n",
       "    <tr>\n",
       "      <th>298</th>\n",
       "      <td>110</td>\n",
       "      <td>0</td>\n",
       "    </tr>\n",
       "    <tr>\n",
       "      <th>299</th>\n",
       "      <td>144</td>\n",
       "      <td>1</td>\n",
       "    </tr>\n",
       "    <tr>\n",
       "      <th>300</th>\n",
       "      <td>130</td>\n",
       "      <td>0</td>\n",
       "    </tr>\n",
       "    <tr>\n",
       "      <th>301</th>\n",
       "      <td>130</td>\n",
       "      <td>0</td>\n",
       "    </tr>\n",
       "    <tr>\n",
       "      <th>302</th>\n",
       "      <td>138</td>\n",
       "      <td>0</td>\n",
       "    </tr>\n",
       "  </tbody>\n",
       "</table>\n",
       "<p>303 rows × 2 columns</p>\n",
       "</div>"
      ],
      "text/plain": [
       "     blood_ps  fblood_sugar\n",
       "0         145             1\n",
       "1         160             0\n",
       "2         120             0\n",
       "3         130             0\n",
       "4         130             0\n",
       "..        ...           ...\n",
       "298       110             0\n",
       "299       144             1\n",
       "300       130             0\n",
       "301       130             0\n",
       "302       138             0\n",
       "\n",
       "[303 rows x 2 columns]"
      ]
     },
     "execution_count": 39,
     "metadata": {},
     "output_type": "execute_result"
    }
   ],
   "source": [
    "distr_prob"
   ]
  },
  {
   "cell_type": "code",
   "execution_count": 40,
   "metadata": {},
   "outputs": [],
   "source": [
    "for i in range (len(distr_prob)):\n",
    "    if distr_prob.loc[i,'blood_ps'] > 129:\n",
    "        distr_prob.loc[i,'blood_ps'] = 1\n",
    "    else:\n",
    "        distr_prob.loc[i,'blood_ps'] = 0"
   ]
  },
  {
   "cell_type": "code",
   "execution_count": 41,
   "metadata": {},
   "outputs": [
    {
     "data": {
      "text/plain": [
       "blood_ps  fblood_sugar\n",
       "0         0               121\n",
       "          1                14\n",
       "1         0               137\n",
       "          1                31\n",
       "dtype: int64"
      ]
     },
     "execution_count": 41,
     "metadata": {},
     "output_type": "execute_result"
    }
   ],
   "source": [
    "distr_prob.groupby(['blood_ps','fblood_sugar']).size()"
   ]
  },
  {
   "cell_type": "code",
   "execution_count": 42,
   "metadata": {},
   "outputs": [
    {
     "data": {
      "text/plain": [
       "blood_ps\n",
       "0    135\n",
       "1    168\n",
       "dtype: int64"
      ]
     },
     "execution_count": 42,
     "metadata": {},
     "output_type": "execute_result"
    }
   ],
   "source": [
    "distr_prob.groupby(['blood_ps']).size()"
   ]
  },
  {
   "cell_type": "code",
   "execution_count": 43,
   "metadata": {},
   "outputs": [
    {
     "data": {
      "text/html": [
       "<div>\n",
       "<style scoped>\n",
       "    .dataframe tbody tr th:only-of-type {\n",
       "        vertical-align: middle;\n",
       "    }\n",
       "\n",
       "    .dataframe tbody tr th {\n",
       "        vertical-align: top;\n",
       "    }\n",
       "\n",
       "    .dataframe thead th {\n",
       "        text-align: right;\n",
       "    }\n",
       "</style>\n",
       "<table border=\"1\" class=\"dataframe\">\n",
       "  <thead>\n",
       "    <tr style=\"text-align: right;\">\n",
       "      <th></th>\n",
       "      <th>non_diab</th>\n",
       "      <th>diab</th>\n",
       "      <th>total</th>\n",
       "    </tr>\n",
       "  </thead>\n",
       "  <tbody>\n",
       "    <tr>\n",
       "      <th>n_blood_ps</th>\n",
       "      <td>121</td>\n",
       "      <td>14</td>\n",
       "      <td>135</td>\n",
       "    </tr>\n",
       "    <tr>\n",
       "      <th>h_blood_ps</th>\n",
       "      <td>137</td>\n",
       "      <td>31</td>\n",
       "      <td>168</td>\n",
       "    </tr>\n",
       "    <tr>\n",
       "      <th>total</th>\n",
       "      <td>258</td>\n",
       "      <td>45</td>\n",
       "      <td>303</td>\n",
       "    </tr>\n",
       "  </tbody>\n",
       "</table>\n",
       "</div>"
      ],
      "text/plain": [
       "            non_diab  diab  total\n",
       "n_blood_ps       121    14    135\n",
       "h_blood_ps       137    31    168\n",
       "total            258    45    303"
      ]
     },
     "execution_count": 43,
     "metadata": {},
     "output_type": "execute_result"
    }
   ],
   "source": [
    "data = [[121,14,135],[137,31,168],[258,45,303]]\n",
    "bi_distr_prob = pd.DataFrame(data, index=['n_blood_ps','h_blood_ps', 'total'],columns=['non_diab','diab','total'])\n",
    "bi_distr_prob"
   ]
  },
  {
   "cell_type": "code",
   "execution_count": null,
   "metadata": {},
   "outputs": [],
   "source": []
  }
 ],
 "metadata": {
  "interpreter": {
   "hash": "26de051ba29f2982a8de78e945f0abaf191376122a1563185a90213a26c5da77"
  },
  "kernelspec": {
   "display_name": "Python 3.10.2 64-bit",
   "language": "python",
   "name": "python3"
  },
  "language_info": {
   "codemirror_mode": {
    "name": "ipython",
    "version": 3
   },
   "file_extension": ".py",
   "mimetype": "text/x-python",
   "name": "python",
   "nbconvert_exporter": "python",
   "pygments_lexer": "ipython3",
   "version": "3.10.2"
  },
  "orig_nbformat": 4
 },
 "nbformat": 4,
 "nbformat_minor": 2
}
